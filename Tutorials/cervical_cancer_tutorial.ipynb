{
 "cells": [
  {
   "cell_type": "markdown",
   "metadata": {},
   "source": [
    "# Slicer Tutorial Brain MRI\n",
    "\n",
    "This tutorial shows you how to use the functions from the module 'basic_functions'. Before you begin, <span style=\"color:red\">**please ensure you have all the required modules downloaded from the requirements.txt file.** </span>"
   ]
  },
  {
   "cell_type": "markdown",
   "metadata": {},
   "source": [
    "### Setup the slicer kernel\n",
    "\n",
    "<ins>New functions used:</ins>\n",
    "~~~\n",
    "load_DICOM()\n",
    "~~~\n",
    "- loads in an image or segmentation into the scene stored as a DICOM file"
   ]
  },
  {
   "cell_type": "code",
   "execution_count": 3,
   "metadata": {},
   "outputs": [],
   "source": [
    "import json\n",
    "import logging.config\n",
    "import logging.handlers\n",
    "import os\n",
    "import subprocess\n",
    "import numpy as np\n",
    "import slicer\n",
    "import slicerutil.basic_functions as bf"
   ]
  },
  {
   "cell_type": "code",
   "execution_count": 4,
   "metadata": {},
   "outputs": [],
   "source": [
    "# confugure logging\n",
    "logger = logging.getLogger(\"slicer_tutorial\")\n",
    "config_file = os.path.join(os.getcwd(), 'logging_configs', 'config.json')\n",
    "with open(config_file) as f:\n",
    "    config = json.load(f)\n",
    "logging.config.dictConfig(config)"
   ]
  },
  {
   "cell_type": "code",
   "execution_count": null,
   "metadata": {},
   "outputs": [],
   "source": [
    "# Load in the DICOM directory for the brain resection patient into slicer\n",
    "current_dir = os.path.dirname(os.path.abspath('__file__'))\n",
    "brain_resection_dicom_path = os.path.join(current_dir, '..', 'example_patients', 'cervical_cancer')\n",
    "\n",
    "slicer.mrmlScene.Clear(0) # Clear the scene\n",
    "bf.load_DICOM(brain_resection_dicom_path)"
   ]
  },
  {
   "cell_type": "markdown",
   "metadata": {},
   "source": [
    "### Learn how to use the helper function\n",
    "\n",
    "<ins>New functions used:</ins>\n",
    "~~~\n",
    "quick_visualize()\n",
    "~~~\n",
    "- displays axial, saggital, and coronal slices using matplotlib for quick verification onf numpy arrays"
   ]
  },
  {
   "cell_type": "code",
   "execution_count": null,
   "metadata": {},
   "outputs": [],
   "source": [
    "help(bf.quick_visualize)"
   ]
  },
  {
   "cell_type": "markdown",
   "metadata": {},
   "source": [
    "### Access the data stored in the scene\n",
    "\n",
    "<ins>New functions used:</ins>\n",
    "~~~\n",
    "get_ct_and_pet_volume_nodes()\n",
    "~~~\n",
    "- finds the ct and pet volume nodes and returns the node ID's in a tuple"
   ]
  },
  {
   "cell_type": "code",
   "execution_count": 11,
   "metadata": {},
   "outputs": [],
   "source": [
    "# Get the volume nodes and set the PET cmap to heat\n",
    "ct_node, pet_node = bf.get_ct_and_pet_volume_nodes()\n",
    "\n",
    "# Set the PET colormap to heat\n",
    "petColor = slicer.mrmlScene.GetFirstNodeByName('PET-Heat')\n",
    "pet_node.GetVolumeDisplayNode().SetAndObserveColorNodeID(petColor.GetID())\n",
    "pet_node.GetVolumeDisplayNode().AutoWindowLevelOn()\n",
    "\n",
    "#  set the CT colormap to abdomen window/level\n",
    "slicer.modules.volumes.logic().ApplyVolumeDisplayPreset(ct_node.GetVolumeDisplayNode(), 'CT_ABDOMEN')\n",
    "\n",
    "\n",
    "# Set the foreground and background of the slice viewer\n",
    "slicer.util.setSliceViewerLayers(background=ct_node, foreground=pet_node, foregroundOpacity = 0.2)"
   ]
  },
  {
   "cell_type": "code",
   "execution_count": null,
   "metadata": {},
   "outputs": [],
   "source": [
    "# Get the segmentation node\n",
    "segmentation_node = slicer.mrmlScene.GetFirstNodeByClass('vtkMRMLSegmentationNode')\n",
    "segmentation = segmentation_node.GetSegmentation()\n",
    "\n",
    "# Set the contours as BinaryLabelmap for manipulation\n",
    "segmentation_node.CreateBinaryLabelmapRepresentation()\n",
    "segmentation_node.SetSourceRepresentationToBinaryLabelmap()"
   ]
  },
  {
   "cell_type": "code",
   "execution_count": 13,
   "metadata": {},
   "outputs": [],
   "source": [
    "# Get the names of all the segments in the segmentation node\n",
    "all_segment_names = [segmentation.GetNthSegment(i).GetName() for i in range(segmentation.GetNumberOfSegments())]\n",
    "\n",
    "# Get the volume nodes as numpy arrays\n",
    "ct_numpy_array = slicer.util.arrayFromVolume(ct_node)\n",
    "pet_numpy_array = slicer.util.arrayFromVolume(pet_node)\n",
    "\n",
    "# Make a dictionary of the segment names, and their numpy array sampled from the ct\n",
    "ct_segment_dict = {}\n",
    "for segment_name in all_segment_names:\n",
    "    segment_id = segmentation.GetSegmentIdBySegmentName(segment_name)\n",
    "    if not segment_id is None:\n",
    "        ct_segment_dict[segment_name] = slicer.util.arrayFromSegmentBinaryLabelmap(segmentation_node, segment_id, ct_node).astype(int)"
   ]
  },
  {
   "cell_type": "markdown",
   "metadata": {},
   "source": [
    "### Let's calculate the max and average houndsfeild values of the feamur and lungs:\n",
    "\n",
    "<ins>New functions used:</ins>\n",
    "~~~\n",
    "add_segmentation_array_to_node() \n",
    "~~~    \n",
    " \n",
    "- add a new or modified segment from a numpy array to a segmentation node\n"
   ]
  },
  {
   "cell_type": "code",
   "execution_count": null,
   "metadata": {},
   "outputs": [],
   "source": [
    "# Get the array of the left and right femur from the dictionary\n",
    "left_femur = ct_segment_dict['femur_left']\n",
    "right_femur = ct_segment_dict['femur_right']\n",
    "\n",
    "left_femur_ct = np.multiply(left_femur, ct_numpy_array)\n",
    "right_femur_ct = np.multiply(right_femur, ct_numpy_array)\n",
    "\n",
    "\n",
    "# Get the max and average values of the left and right femur\n",
    "logger.info(f\"Left femur max: {np.max(left_femur_ct)}, Left femur average: {np.sum(left_femur_ct)/np.sum(left_femur)}\")\n",
    "logger.info(f\"Right femur max: {np.max(right_femur_ct)}, Right femur average: {np.sum(right_femur_ct)/np.sum(right_femur)}\")"
   ]
  },
  {
   "cell_type": "code",
   "execution_count": null,
   "metadata": {},
   "outputs": [],
   "source": [
    "# Combine all the 5 lung lobes into one segment array\n",
    "lung_array = np.zeros_like(ct_numpy_array)\n",
    "\n",
    "for segment_name in all_segment_names:\n",
    "    if \"lung\" in segment_name.lower():\n",
    "        segment_id = segmentation.GetSegmentIdBySegmentName(segment_name)\n",
    "        lung_array = bf.bitwise_or_from_array(lung_array, ct_segment_dict[segment_name])\n",
    "\n",
    "# Add the lung array to the dictionary and to slicer\n",
    "ct_segment_dict['Lung'] = lung_array\n",
    "bf.add_segmentation_array_to_node(ct_segment_dict['Lung'], segmentation_node, 'Lung', ct_node)\n",
    "\n",
    "lung_ct = np.multiply(lung_array, ct_numpy_array)\n",
    "\n",
    "# Get the max and average values of the lung\n",
    "logger.info(f\"Lung max: {np.max(lung_ct)}, Lung average: {np.sum(lung_ct)/np.sum(lung_array)}\")"
   ]
  },
  {
   "cell_type": "markdown",
   "metadata": {},
   "source": [
    "### Create a new segmentation based on OTSU of the PET image\n",
    "<ins>New functions used:</ins>\n",
    "~~~\n",
    "segmentation_by_auto_threshold()\n",
    "~~~\n",
    "\n",
    "- Creates a segmentation by an auto thresholding method\n",
    "\n",
    "~~~\n",
    "island_effect_segbment_editor()\n",
    "~~~\n",
    "\n",
    "- Implementation of the island effect in Slicer's Segment Editor module\n",
    "\n",
    "~~~\n",
    "dice_similarity()\n",
    "~~~\n",
    "\n",
    "- Computes the DICE similarity between two numpy arrays\n"
   ]
  },
  {
   "cell_type": "code",
   "execution_count": null,
   "metadata": {},
   "outputs": [],
   "source": [
    "# Create a new blank segmentation node for the OTSU threshold based segmentation\n",
    "OTSU_segmentation_node = slicer.mrmlScene.AddNewNodeByClass(\"vtkMRMLSegmentationNode\", \"OTSU_segmentation\")\n",
    "sh = slicer.mrmlScene.GetSubjectHierarchyNode() ### gets the subject hierarchy node to determine the parent of the new segmentation node\n",
    "sh.SetItemParent(sh.GetItemByDataNode(OTSU_segmentation_node),  sh.GetItemParent(sh.GetItemByDataNode(ct_node))) ### sets the parent of the new segmentation node to the parent of the CT node\n",
    "OTSU_segmentation_node.CreateDefaultDisplayNodes() ### creates the display nodes for the new segmentation node\n",
    "\n",
    "# Set the geometry of the OTSU node to the PET node\n",
    "OTSU_segmentation_node.SetReferenceImageGeometryParameterFromVolumeNode(pet_node)\n",
    "\n",
    "# Create the OTSU segmentation\n",
    "bf.segmentation_by_auto_threshold(\"OTSU_segmentation\", OTSU_segmentation_node, pet_node)\n",
    "\n",
    "# Split up the segmentation into islands\n",
    "bf.islands_effect_segment_editor(\"OTSU_segmentation\", OTSU_segmentation_node, pet_node, edit='SPLIT_ISLANDS_TO_SEGMENTS', minimumSize=1)"
   ]
  },
  {
   "cell_type": "markdown",
   "metadata": {},
   "source": [
    "<span style=\"color:green\">**Have a look at the created segmentations on slicer**</span>\n",
    "- the segmentation OTSU_segmentation looks like the bladder, let's see how similar they are using the DICE similarity index"
   ]
  },
  {
   "cell_type": "code",
   "execution_count": 25,
   "metadata": {},
   "outputs": [],
   "source": [
    "# Pull the numpy arrays of the OTSU segmentations\n",
    "OTSU_segment_names = [OTSU_segmentation_node.GetSegmentation().GetNthSegment(i).GetName() for i in range(OTSU_segmentation_node.GetSegmentation().GetNumberOfSegments())]\n",
    "\n",
    "OTSU_segment_dict = {}\n",
    "for segment_name in OTSU_segment_names:\n",
    "    segment_id = OTSU_segmentation_node.GetSegmentation().GetSegmentIdBySegmentName(segment_name)\n",
    "    if not segment_id is None:\n",
    "        OTSU_segment_dict[segment_name] = slicer.util.arrayFromSegmentBinaryLabelmap(OTSU_segmentation_node, segment_id, pet_node).astype(int)\n",
    "\n",
    "# Get the bladder segmentation sampled from the PET image\n",
    "pet_sampled_bladder = slicer.util.arrayFromSegmentBinaryLabelmap(segmentation_node, segmentation.GetSegmentIdBySegmentName(\"urinary_bladder\"), pet_node).astype(int)"
   ]
  },
  {
   "cell_type": "code",
   "execution_count": null,
   "metadata": {},
   "outputs": [],
   "source": [
    "# Perform the DICE similarity test\n",
    "dice_result = bf.dice_similarity(OTSU_segment_dict[\"OTSU_segmentation\"], pet_sampled_bladder)\n",
    "\n",
    "print(f\"The dice results between the OTSU segmentation and the bladder is {dice_result}\")"
   ]
  },
  {
   "cell_type": "code",
   "execution_count": 29,
   "metadata": {},
   "outputs": [],
   "source": [
    "# The OTSU_segmentation and the bladder are similar! Let's remove the segmentation from the node\n",
    "OTSU_segmentation_node.RemoveSegment(\"OTSU_segmentation\")\n",
    "OTSU_segment_dict.pop(\"OTSU_segmentation\")\n",
    "\n",
    "# The other threshold must be the tumor! Let's rename accordingly\n",
    "OTSU_segmentation_node.GetSegmentation().GetSegment(OTSU_segmentation_node.GetSegmentation().GetSegmentIdBySegmentName(\"OTSU_segmentation_2\")).SetName(\"Tumor\")\n",
    "OTSU_segment_dict['Tumor'] = OTSU_segment_dict[\"OTSU_segmentation_2\"]\n",
    "del OTSU_segment_dict[\"OTSU_segmentation_2\"]"
   ]
  },
  {
   "cell_type": "code",
   "execution_count": null,
   "metadata": {},
   "outputs": [],
   "source": [
    "# Add the tumor segmentation to the original segmentation node\n",
    "bf.add_segmentation_array_to_node(OTSU_segment_dict['Tumor'], segmentation_node, \"Tumor\", pet_node)\n",
    "\n",
    "# Add the segmentation to the ct_segment_dict\n",
    "ct_segment_dict['Tumor'] = slicer.util.arrayFromSegmentBinaryLabelmap(segmentation_node, segmentation.GetSegmentIdBySegmentName('Tumor'), ct_node).astype(int)\n",
    "all_segment_names.append('Tumor')\n",
    "del OTSU_segment_dict\n",
    "\n",
    "# Remove the OTSU node\n",
    "slicer.mrmlScene.RemoveNode(OTSU_segmentation_node)\n",
    "del OTSU_segmentation_node"
   ]
  },
  {
   "cell_type": "markdown",
   "metadata": {},
   "source": [
    "### Save a video of the segmentations and volumes/ segmentations as a nifti\n",
    "<ins>New functions used:</ins>\n",
    "~~~\n",
    "sweep_screen_capture()\n",
    "~~~\n",
    "\n",
    "- Saves a sweep screen capture of the Slicer scene\n",
    "\n",
    "~~~\n",
    "save_image_from_DICOM_satabase()\n",
    "~~~\n",
    "\n",
    "- Saves a volume node from a DICOM into a nifti or nrrd\n",
    "\n",
    "~~~\n",
    "save_rtstructs_as_nii()\n",
    "~~~\n",
    "\n",
    "- Saves segmentations from a segmentation node into nifti format"
   ]
  },
  {
   "cell_type": "code",
   "execution_count": 33,
   "metadata": {},
   "outputs": [],
   "source": [
    "# Create a save path\n",
    "save_path = os.path.join(current_dir, \"tutorial_saves\") \n",
    "if not os.path.exists(save_path):\n",
    "    os.makedirs(save_path)"
   ]
  },
  {
   "cell_type": "code",
   "execution_count": null,
   "metadata": {},
   "outputs": [],
   "source": [
    "# Save a video\n",
    "\n",
    "# Capture the video\n",
    "bf.sweep_screen_capture(ct_node, save_path, \"tutorial_screen_capture\", tupleOfSegmentationNodesToShow=(segmentation_node, ), foregroundImageNode=pet_node, foregroundOpacity=0.2) "
   ]
  },
  {
   "cell_type": "code",
   "execution_count": null,
   "metadata": {},
   "outputs": [],
   "source": [
    "# Save the files\n",
    "bf.save_image_from_scalar_volume_node(save_path, ct_node, additionalSaveInfo='CT') ## Saves the ct volume\n",
    "bf.save_image_from_scalar_volume_node(save_path, pet_node, additionalSaveInfo='PET') ## Saves the pet volume\n",
    "\n",
    "segments_to_save = tuple(all_segment_names)\n",
    "segmentation_node.SetName(\"Segmentations\")\n",
    "bf.save_segmentations_to_files(segments_to_save, segmentation_node, ct_node, save_path, \"nii\")"
   ]
  },
  {
   "cell_type": "code",
   "execution_count": null,
   "metadata": {},
   "outputs": [],
   "source": [
    "# View the video\n",
    "subprocess.run([\"start\", os.path.join(save_path, \"tutorial_screen_capture.mp4\")], shell=True)"
   ]
  },
  {
   "cell_type": "markdown",
   "metadata": {},
   "source": [
    "## Thank you for completing the tutorial!\n",
    "If you have any questions or would like us to create a function for your use case, please contact Marcus Milantoni at mmilanto@uwo.ca or use the GitHub repository."
   ]
  }
 ],
 "metadata": {
  "kernelspec": {
   "display_name": "Slicer 5.4",
   "language": "python",
   "name": "slicer-5.4"
  },
  "language_info": {
   "file_extension": ".py",
   "mimetype": "text/x-python",
   "name": "python",
   "version": "3.9.10"
  }
 },
 "nbformat": 4,
 "nbformat_minor": 2
}
